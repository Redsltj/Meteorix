{
 "cells": [
  {
   "cell_type": "markdown",
   "id": "1b84d68e",
   "metadata": {
    "id": "1b84d68e"
   },
   "source": [
    "# Code de simulation d'images \n",
    "\n",
    "## 0.Introduction et explications générales \n",
    "\n",
    "Ce code à pour objectif de créer une image simulée à partir d'un fichier .dat fourni par le code AFM de Jérémie Vaubaillon. Dans notre cas il s'appelle \"STEPS_int.dat0\" et sera lu dans la cellule suivante. \n",
    "\n",
    "Ce code suit la feuille de route fournie par Jérémie lors du projet meteorix 2023, et en suit donc les 4 étapes. "
   ]
  },
  {
   "cell_type": "code",
   "execution_count": 1,
   "id": "907ea115",
   "metadata": {
    "id": "907ea115"
   },
   "outputs": [],
   "source": [
    "\"\"\"Importation de modules et définition de constantes\"\"\" \n",
    "import numpy as np \n",
    "from astropy.io import fits \n",
    "import matplotlib.pyplot as plt\n",
    "%matplotlib inline\n",
    "%matplotlib qt5\n",
    "\n",
    "h = 6.63e-34 #J/s\n",
    "c = 3.00e8 #m/s\n",
    "lambda_moyen = 600e-9 # m\n",
    "\n",
    "\"\"\"Lecture du fichier et des données utiles\"\"\" \n",
    "file = np.loadtxt(\"STEPS_int.dat0\").T\n",
    "vitesse_meteoroide = 66000       #m/s expliquée dans la feuille de route\n",
    "Xm = file[8]                     #m\n",
    "Ym = file[9]                     #m \n",
    "dm_dt = file[11]                 #kg/s\n",
    "altitude_meteore = file[5] * 1e3 #m\n",
    "t = file[1]                      #s \n",
    "nb_lignes = len(t)"
   ]
  },
  {
   "cell_type": "markdown",
   "id": "66987daa",
   "metadata": {
    "id": "66987daa"
   },
   "source": [
    "La cellule suivante regroupe la totalité des paramètres de la caméra ou d'ailleurs utiles au code, il pourront être modifiés si ils sont jugés impertinents ou imprecis. Ils sont sourcés afin de garder une trace des informations. "
   ]
  },
  {
   "cell_type": "code",
   "execution_count": 2,
   "id": "ea778b17",
   "metadata": {
    "id": "ea778b17"
   },
   "outputs": [],
   "source": [
    "\"\"\"Paramètres de la caméra\"\"\"  \n",
    "\n",
    "altitude_meteorix = 500e3 #m \n",
    "#Source : Article meteorix\n",
    "\n",
    "taille_pixels = 5*5 * 1e-12 #m²\n",
    "#Source : Rapport 2022 (p12)\n",
    "\n",
    "distance_focale = 8 * 1e-3 #m \n",
    "#Source : Rapport 2022 (p11)\n",
    "\n",
    "diametre_camera = 11.2 * 1e-3 #m \n",
    "#Source : Rapport 2022 \n",
    "\n",
    "profondeur_camera = 59 * 1e-3 #m \n",
    "# Source : Rapport 2022 (Annexe)\n",
    "\n",
    "angle_camera = 40 #° \n",
    "#source : article meteorix (100° pour la petite caméra)\n",
    "\n",
    "largeur_detecteur = 640  # pixels \n",
    "hauteur_detecteur = 480  # pixels\n",
    "#Source : observations à l'aide de la caméra 2023 "
   ]
  },
  {
   "cell_type": "markdown",
   "id": "aa13eb24",
   "metadata": {
    "id": "aa13eb24"
   },
   "source": [
    "## 1. Physique des météores\n",
    "\n",
    "Cette partie à pour objectif de déterminer l’énergie lumineuse émise par un météoroïde lorsque celui-ci s'ablate en entrant dans l'atmosphère. "
   ]
  },
  {
   "cell_type": "code",
   "execution_count": 3,
   "id": "da12d482",
   "metadata": {
    "id": "da12d482"
   },
   "outputs": [],
   "source": [
    "# Etape 1 \n",
    "\n",
    "tau = 0.05 # sans unité \n",
    "#Cette valeur a été fournie avec la feuille de route\n",
    "\n",
    "#Calcul de l’énergie lumineuse émise : \n",
    "I_emis = - tau * vitesse_meteoroide*vitesse_meteoroide * dm_dt # W \n",
    "#Source de la formule : TP nanosatellite 2018 par Nicolas Rambaux "
   ]
  },
  {
   "cell_type": "markdown",
   "id": "d344e63c",
   "metadata": {
    "id": "d344e63c"
   },
   "source": [
    "## 2. Signal détecté\n",
    "\n",
    "Cette partie vise à déterminer le signal détecté par la caméra à partir de différents paramètres que nous obtiendrons via des sources bibliographiques. \n",
    "\n",
    "\n",
    "Il faut corriger : \n",
    "- La distance entre le phénomène et le détecteur\n",
    "- L’efficacité quantique du détecteur : Q=70%\n",
    "- l’étalage de la lumière sur le détecteurs, via la PSF (point spread function), la taille des pixels et la longueur focale de la caméra.\n",
    "\n",
    "Approximations :     \n",
    "- On considère le météoride et la caméra alignés avec le centre de la Terre -> le météoride est pile au centre du champs de vision de la caméra"
   ]
  },
  {
   "cell_type": "code",
   "execution_count": 4,
   "id": "8d0a63a3",
   "metadata": {
    "id": "8d0a63a3"
   },
   "outputs": [],
   "source": [
    "distance_meteore_camera = np.sqrt((altitude_meteorix - altitude_meteore)**2 + (Xm)**2)\n",
    "#Calculée par nous, on peux utiliser le théorème de pythagore pour le démontrer \n",
    "\n",
    "efficacite_quantique = 0.7 \n",
    "#Fournie par la feuille de route; il s'agit d'un pourcentage \n",
    "\n",
    "intensite_recue = I_emis / (distance_meteore_camera)**2\n",
    "#Source : Discussion du 15/02 avec Jérémie et Nicolas. \n",
    "\n",
    "a = 0 \n",
    "delta_temps = np.array([])\n",
    "for i in t : \n",
    "    delta_temps = np.append(delta_temps, i - a)\n",
    "    a = i \n",
    "#boucle qui calcule l'écart de durée entre 2 lignes du fichier en secondes, stockées dans \"delta_temps\"\n",
    "\n",
    "nombre_photons = intensite_recue * taille_pixels * delta_temps * lambda_moyen /  (h * c)\n",
    "#Nombre de photons captés chaque intervalle de temps (= énergie recue/energie d'un photon)\n",
    "\n",
    "surface_airy = np.pi * (profondeur_camera * np.sin(1.22 * lambda_moyen / diametre_camera ) )**2 \n",
    "#Calcul de la diffraction du a la camera en mètre (revoir si 1.22 lambda / D est une bonne approximation)\n",
    "\n",
    "proportion_lumiere_par_pixel = taille_pixels / surface_airy\n",
    "#Calcul de l'etalage de la lumière du a la diffraction \n",
    "\n",
    "signal_detecte = proportion_lumiere_par_pixel * efficacite_quantique * nombre_photons \n",
    "# en unité adimensionnee \"ADU\"\n",
    "\n",
    "for i in range(len(signal_detecte)) : \n",
    "    if signal_detecte[i] > 255 : \n",
    "        signal_detecte[i] = 255.\n",
    "    if signal_detecte[i] < 0 : \n",
    "        signal_detecte[i] = 0\n",
    "#Cette boucle à pour objectif de regler les pixels saturés a 255 (dans notre cas ils le sont tous)"
   ]
  },
  {
   "cell_type": "markdown",
   "id": "2c87799b",
   "metadata": {
    "id": "2c87799b"
   },
   "source": [
    "## 3. Image artificielle\n",
    "\n",
    "Dans cette partie l'objectif est de créer des images de ce météoroïde en fonction du temps"
   ]
  },
  {
   "cell_type": "code",
   "execution_count": 6,
   "id": "e1bef586",
   "metadata": {
    "id": "e1bef586"
   },
   "outputs": [],
   "source": [
    "#Dans le cas de \"STEPS_int.dat0\" on crée 14 images noires de 480x640\n",
    "images = np.resize(np.zeros(nb_lignes*hauteur_detecteur*largeur_detecteur),(nb_lignes,hauteur_detecteur,largeur_detecteur))\n",
    "\n",
    "#On calcule la largeur de l'image à l'endroit du meteoroide \n",
    "largueur_image = np.abs(2 * np.tan(angle_camera*np.pi/180) * distance_meteore_camera) #m \n",
    "\n",
    "#On détermine le pixel à illuminer grâce à la position du météoroïde \n",
    "x_pixel = largeur_detecteur/2 + (largeur_detecteur * Xm / largueur_image )\n",
    "y_pixel = (hauteur_detecteur * Ym / largueur_image ) + hauteur_detecteur/2\n",
    "\n",
    "\n",
    "for i in range(nb_lignes) : \n",
    "    \"\"\"Boucle qui crée les images et les place dans le tableau images\"\"\"\n",
    "    image_a_ajt = np.resize(np.zeros(hauteur_detecteur*largeur_detecteur),(hauteur_detecteur,largeur_detecteur))\n",
    "    \n",
    "    #On modifie le pixel qui correspond par une valeur (cette valeur sera calculée à partir de I plus tard)\n",
    "    image_a_ajt[int(y_pixel[i])][int(x_pixel[i])] = signal_detecte[i] #Valeur pour un objet de magnitude 1.85\n",
    "    \n",
    "    #On calcule la valeur des pixels adjacents à partir de la surface de la tache d'Airy\n",
    "    val_pixel_adj = (1 - proportion_lumiere_par_pixel) * signal_detecte[i]/8 \n",
    "\n",
    "    #On modifie les 8 pixels adjascents par la valeur calculée \n",
    "    image_a_ajt[int(y_pixel[i]) +1][int(x_pixel[i])] = val_pixel_adj\n",
    "    image_a_ajt[int(y_pixel[i])][int(x_pixel[i]) +1] = val_pixel_adj\n",
    "    image_a_ajt[int(y_pixel[i] -1)][int(x_pixel[i])] = val_pixel_adj\n",
    "    image_a_ajt[int(y_pixel[i])][int(x_pixel[i]) -1] = val_pixel_adj\n",
    "    image_a_ajt[int(y_pixel[i]) +1][int(x_pixel[i]) +1] = val_pixel_adj\n",
    "    image_a_ajt[int(y_pixel[i]) -1][int(x_pixel[i]) -1] = val_pixel_adj\n",
    "    image_a_ajt[int(y_pixel[i]) +1][int(x_pixel[i]) -1] = val_pixel_adj\n",
    "    image_a_ajt[int(y_pixel[i]) -1][int(x_pixel[i]) +1] = val_pixel_adj\n",
    "    \n",
    "    #On ajoute l'image formée dans le tableau \n",
    "    images[i] = image_a_ajt\n",
    "\n",
    "\n",
    "#Paramètres de la figure\n",
    "fig=plt.figure(figsize=(10,10))\n",
    "ax=fig.add_subplot(111)\n",
    "fig.show()\n",
    "ax.set_xlim(0,largeur_detecteur)\n",
    "ax.set_ylim(0,hauteur_detecteur)\n",
    "\n",
    "#Affiche les images formées sous forme d'une animation \n",
    "for i in range(nb_lignes):\n",
    "    ax.imshow(images[i], cmap='gray')\n",
    "    plt.pause(0.1)\n",
    "    fig.canvas.draw()\n",
    "plt.pause(.1)"
   ]
  },
  {
   "cell_type": "code",
   "execution_count": null,
   "id": "46e32f58-adce-4357-b31c-05952a2fc991",
   "metadata": {},
   "outputs": [],
   "source": []
  },
  {
   "cell_type": "code",
   "execution_count": null,
   "id": "be41bc38-ca41-46f1-8146-9f2e2e1c9189",
   "metadata": {},
   "outputs": [],
   "source": []
  }
 ],
 "metadata": {
  "colab": {
   "provenance": []
  },
  "kernelspec": {
   "display_name": "base",
   "language": "python",
   "name": "base"
  },
  "language_info": {
   "codemirror_mode": {
    "name": "ipython",
    "version": 3
   },
   "file_extension": ".py",
   "mimetype": "text/x-python",
   "name": "python",
   "nbconvert_exporter": "python",
   "pygments_lexer": "ipython3",
   "version": "3.9.7"
  }
 },
 "nbformat": 4,
 "nbformat_minor": 5
}
